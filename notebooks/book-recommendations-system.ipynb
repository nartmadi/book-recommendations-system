{
 "cells": [
  {
   "cell_type": "code",
   "execution_count": 1,
   "id": "056f2c38-4330-4ceb-b566-047aac3f97a6",
   "metadata": {},
   "outputs": [],
   "source": [
    "import pandas as pd\n",
    "from sklearn.feature_extraction.text import TfidfVectorizer\n",
    "from sklearn.preprocessing import StandardScaler\n",
    "import numpy as np\n",
    "import joblib"
   ]
  },
  {
   "cell_type": "code",
   "execution_count": 2,
   "id": "31996119-184d-47f7-ba66-d7f2f8c7526e",
   "metadata": {},
   "outputs": [],
   "source": [
    "df = pd.read_csv('../data/books.csv', on_bad_lines='skip')"
   ]
  },
  {
   "cell_type": "code",
   "execution_count": 3,
   "id": "c6a9bc59-c3fc-46de-b8b0-14d62e5f1fa7",
   "metadata": {},
   "outputs": [],
   "source": [
    "df = df.rename(columns={df.columns[7]: 'num_pages'})"
   ]
  },
  {
   "cell_type": "code",
   "execution_count": 11,
   "id": "bd6020cb-3000-4b01-95cd-e3ee8668ad64",
   "metadata": {},
   "outputs": [],
   "source": [
    "# Filter for English language books\n",
    "english_books = df[df['language_code'].str.contains('eng', na=False)].copy()\n",
    "english_books['title'] = english_books['title'].str.strip()"
   ]
  },
  {
   "cell_type": "code",
   "execution_count": 5,
   "id": "bff5db7b-ad51-4189-8053-7d032e469789",
   "metadata": {},
   "outputs": [],
   "source": [
    "# Combine title and author\n",
    "english_books['title_author'] = english_books['title'] + ' ' + english_books['authors']"
   ]
  },
  {
   "cell_type": "code",
   "execution_count": 6,
   "id": "e011b45c-2a18-49d7-9616-8f7def7fae5f",
   "metadata": {},
   "outputs": [],
   "source": [
    "tfidf = TfidfVectorizer(stop_words='english')\n",
    "text_matrix = tfidf.fit_transform(english_books['title_author'])"
   ]
  },
  {
   "cell_type": "code",
   "execution_count": 7,
   "id": "8a7de926-bfc5-409e-8ea7-67dfb1b7c984",
   "metadata": {},
   "outputs": [],
   "source": [
    "# Normalize numerical features\n",
    "scaler = StandardScaler()\n",
    "num_features = english_books[['average_rating', 'num_pages', 'ratings_count', 'text_reviews_count']]\n",
    "num_matrix = scaler.fit_transform(num_features)"
   ]
  },
  {
   "cell_type": "code",
   "execution_count": 8,
   "id": "c9e73e33-0d61-48f9-a1ae-3363ef746718",
   "metadata": {},
   "outputs": [],
   "source": [
    "# Combine text and numerical features\n",
    "combined_matrix = np.hstack((text_matrix.toarray(), num_matrix))"
   ]
  },
  {
   "cell_type": "code",
   "execution_count": 9,
   "id": "a9c5e4ee-6eba-4a0a-9e9e-eb59d24eafac",
   "metadata": {},
   "outputs": [],
   "source": [
    "# Save artifacts\n",
    "joblib.dump(tfidf, '../backend/models/tfidf_vectorizer_eng.pkl')\n",
    "joblib.dump(scaler, '../backend/models/scaler.pkl')\n",
    "np.save('../backend/models/combined_features.npy', combined_matrix)\n",
    "english_books.to_csv('../backend/models/books_data.csv', index=False)"
   ]
  },
  {
   "cell_type": "code",
   "execution_count": 10,
   "id": "2054755d-4c87-418d-a7fd-7b2ba322c379",
   "metadata": {},
   "outputs": [
    {
     "data": {
      "text/plain": [
       "Index(['bookID', 'title', 'authors', 'average_rating', 'isbn', 'isbn13',\n",
       "       'language_code', 'num_pages', 'ratings_count', 'text_reviews_count',\n",
       "       'publication_date', 'publisher', 'title_author'],\n",
       "      dtype='object')"
      ]
     },
     "execution_count": 10,
     "metadata": {},
     "output_type": "execute_result"
    }
   ],
   "source": [
    "english_books.columns"
   ]
  }
 ],
 "metadata": {
  "kernelspec": {
   "display_name": "Python 3 (ipykernel)",
   "language": "python",
   "name": "python3"
  },
  "language_info": {
   "codemirror_mode": {
    "name": "ipython",
    "version": 3
   },
   "file_extension": ".py",
   "mimetype": "text/x-python",
   "name": "python",
   "nbconvert_exporter": "python",
   "pygments_lexer": "ipython3",
   "version": "3.10.14"
  }
 },
 "nbformat": 4,
 "nbformat_minor": 5
}
